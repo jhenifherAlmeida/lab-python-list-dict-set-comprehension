{
 "cells": [
  {
   "cell_type": "code",
   "execution_count": null,
   "metadata": {},
   "outputs": [
    {
     "name": "stdout",
     "output_type": "stream",
     "text": [
      "Enter the name of a product that a customer wants to order:\n",
      "\n",
      "Order Statistics:\n",
      "Total Products Ordered: 3\n",
      "Percentage of unique products ordered: 60.0%\n",
      "\n",
      "Updated Inventory:\n",
      "t-shirt: 3\n",
      "mug: 1\n",
      "hat: 3\n",
      "book: 2\n",
      "keychain: 1\n",
      "\n",
      "Total Price: 26.0\n"
     ]
    }
   ],
   "source": [
    "def initialize_inventory(products):\n",
    "    inventory = {product: int(input(f'Enter quantity of {product}s available: ')) for product in products}\n",
    "    return inventory\n",
    "\n",
    "def get_customer_orders(products):\n",
    "    num_orders = int(input('Enter the number of customer orders: '))\n",
    "    print('Enter the name of a product that a customer wants to order:')\n",
    "    orders = [input(f'Product {i+1}: ').strip().lower() for i in range(num_orders)]\n",
    "    \n",
    "    valid_orders = {order for order in orders if order in products}\n",
    "    invalid_orders = [order for order in orders if order not in products]\n",
    "    if invalid_orders:\n",
    "        print(f\"Ignored invalid products: {', '.join(invalid_orders)}\")\n",
    "    \n",
    "    return {'orders': valid_orders}\n",
    "\n",
    "def calculate_order_statistics(customer_orders, products):\n",
    "    total_products_ordered = len(customer_orders['orders'])\n",
    "    percentage_ordered = (total_products_ordered * 100) / len(products)\n",
    "    return total_products_ordered, percentage_ordered\n",
    "\n",
    "def print_order_statistics(order_statistics):\n",
    "    print('\\nOrder Statistics:')\n",
    "    print(f'Total Products Ordered: {order_statistics[0]}')\n",
    "    print(f'Percentage of unique products ordered: {order_statistics[1]:.1f}%')\n",
    "\n",
    "def update_inventory(inventory, customer_orders):\n",
    "    updated_inventory = {\n",
    "        product: (inventory[product] - 1 if product in customer_orders['orders'] else inventory[product])\n",
    "        for product in inventory\n",
    "    }\n",
    "    filtered_inventory = {product: qty for product, qty in updated_inventory.items() if qty > 0}\n",
    "    return filtered_inventory\n",
    "\n",
    "def print_updated_inventory(inventory):\n",
    "    print('\\nUpdated Inventory:')\n",
    "    for product, qty in inventory.items():\n",
    "        print(f'{product}: {qty}')\n",
    "\n",
    "def calculate_total_price(customer_orders):\n",
    "    prices = {item: float(input(f'Enter the price of {item}: ')) for item in customer_orders['orders']}\n",
    "    total_price = sum(prices.values())\n",
    "    return total_price\n",
    "\n",
    "def main():\n",
    "    products = ['t-shirt', 'mug', 'hat', 'book', 'keychain']\n",
    "    inventory = initialize_inventory(products)\n",
    "    customer_orders = get_customer_orders(products)\n",
    "\n",
    "    order_statistics = calculate_order_statistics(customer_orders, products)\n",
    "    print_order_statistics(order_statistics)\n",
    "\n",
    "    inventory = update_inventory(inventory, customer_orders)\n",
    "    print_updated_inventory(inventory)\n",
    "\n",
    "    total_price = calculate_total_price(customer_orders)\n",
    "    print(f'\\nTotal Price: {total_price:.1f}')\n",
    "\n",
    "\n",
    "\n",
    "if __name__ == '__main__':\n",
    "    main()\n"
   ]
  }
 ],
 "metadata": {
  "kernelspec": {
   "display_name": "base",
   "language": "python",
   "name": "python3"
  },
  "language_info": {
   "codemirror_mode": {
    "name": "ipython",
    "version": 3
   },
   "file_extension": ".py",
   "mimetype": "text/x-python",
   "name": "python",
   "nbconvert_exporter": "python",
   "pygments_lexer": "ipython3",
   "version": "3.12.7"
  }
 },
 "nbformat": 4,
 "nbformat_minor": 2
}
