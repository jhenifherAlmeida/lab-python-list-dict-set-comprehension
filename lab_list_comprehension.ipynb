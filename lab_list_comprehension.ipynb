{
 "cells": [
  {
   "cell_type": "code",
   "execution_count": 3,
   "metadata": {},
   "outputs": [],
   "source": [
    "def initialize_inventory(products):\n",
    "    #using dict comprehension to get inventory quantity\n",
    "    inventory = {product: int(input(f'Enter quantity of {product}s available:')) for product in products}\n",
    "    return inventory\n",
    "\n",
    "def get_customer_orders(products):\n",
    "    #how many orders to take\n",
    "    num_orders = int(input('Enter the number of customers orders:'))\n",
    "    print(f'Enter the name of a product that a customer wants to order:')\n",
    "    orders = [input(f'Product {i+1}: ').strip().lower() for i in range(num_orders)]\n",
    "    #filter only valid products\n",
    "    valid_orders = {order for order in orders if order in products}\n",
    "    invalid_orders = [order for order in orders if order not in products]\n",
    "    if invalid_orders:\n",
    "        print(f'Ignored invalid products: {', '.join(invalid_orders)}') \n",
    "    return {'orders': valid_orders} \n"
   ]
  },
  {
   "cell_type": "code",
   "execution_count": 4,
   "metadata": {},
   "outputs": [],
   "source": [
    "def calculate_total_price(customer_orders):\n",
    "    prices = {item: float(input(f'Enter the price of {item}: ')) for item in customer_orders['orders']}\n",
    "    total_price = sum (prices.values())\n",
    "    return total_price"
   ]
  },
  {
   "cell_type": "code",
   "execution_count": 5,
   "metadata": {},
   "outputs": [],
   "source": [
    "def calculate_order_statistics(customer_orders, products):\n",
    "    total_products_ordered = len(customer_orders['orders'])\n",
    "    percentage_ordered = (total_products_ordered * 100) / len(products)\n",
    "    order_status = (total_products_ordered, percentage_ordered)\n",
    "    return order_status"
   ]
  },
  {
   "cell_type": "code",
   "execution_count": 6,
   "metadata": {},
   "outputs": [],
   "source": [
    "def print_order_statistics(order_statistics):\n",
    "    print('Order Statistics:')\n",
    "    print(f'Total Products Ordered: {order_statistics[0]}')\n",
    "    print(f'Percentage of unique products ordered: {order_statistics[1]:.1f}')\n",
    "    "
   ]
  },
  {
   "cell_type": "code",
   "execution_count": 7,
   "metadata": {},
   "outputs": [],
   "source": [
    "def update_inventory(inventory, customer_orders):\n",
    "    updated_inventory = {product: (inventory[product] - 1 if product in customer_orders['orders'] else inventory[product])\n",
    "                         for product in inventory}\n",
    "    filtered_inventory = {product: qty for product, qty in updated_inventory.items() if qty > 0}\n",
    "    return filtered_inventory"
   ]
  },
  {
   "cell_type": "code",
   "execution_count": 8,
   "metadata": {},
   "outputs": [],
   "source": [
    "def print_updated_inventory(initialize_inventory):\n",
    "    print('Updated Inventory:')\n",
    "    for product, qty in inventory.items():\n",
    "        print(f'{product}: {qty}')"
   ]
  },
  {
   "cell_type": "code",
   "execution_count": 16,
   "metadata": {},
   "outputs": [
    {
     "ename": "IndentationError",
     "evalue": "unindent does not match any outer indentation level (<string>, line 15)",
     "output_type": "error",
     "traceback": [
      "\u001b[0;36m  File \u001b[0;32m<string>:15\u001b[0;36m\u001b[0m\n\u001b[0;31m    if __name__ == '__main__':\u001b[0m\n\u001b[0m                                ^\u001b[0m\n\u001b[0;31mIndentationError\u001b[0m\u001b[0;31m:\u001b[0m unindent does not match any outer indentation level\n"
     ]
    }
   ],
   "source": [
    "def main():\n",
    "    products = ['t-shirt', 'mug', 'hat', 'book', 'keychain']\n",
    "    inventory = initialize_inventory(products)\n",
    "    customer_orders = get_customer_orders(products)\n",
    "\n",
    "    order_statistics = calculate_order_statistics(customer_orders, products)\n",
    "    print_order_statistics(order_statistics)\n",
    "\n",
    "    inventory = update_inventory(inventory, customer_orders)\n",
    "    print_updated_inventory(inventory)\n",
    "\n",
    "    total_price = calculate_total_price(customer_orders)\n",
    "    print(f'Total Price: {total_price:.1f}')\n",
    "\n",
    "   if __name__ == '__main__':  \n",
    "       main()"
   ]
  },
  {
   "cell_type": "markdown",
   "metadata": {},
   "source": []
  }
 ],
 "metadata": {
  "kernelspec": {
   "display_name": "base",
   "language": "python",
   "name": "python3"
  },
  "language_info": {
   "codemirror_mode": {
    "name": "ipython",
    "version": 3
   },
   "file_extension": ".py",
   "mimetype": "text/x-python",
   "name": "python",
   "nbconvert_exporter": "python",
   "pygments_lexer": "ipython3",
   "version": "3.12.7"
  }
 },
 "nbformat": 4,
 "nbformat_minor": 2
}
